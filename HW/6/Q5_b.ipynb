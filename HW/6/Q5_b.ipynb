{
  "nbformat": 4,
  "nbformat_minor": 0,
  "metadata": {
    "colab": {
      "name": "Q5_b.ipynb",
      "provenance": [],
      "collapsed_sections": []
    },
    "kernelspec": {
      "name": "python3",
      "display_name": "Python 3"
    }
  },
  "cells": [
    {
      "cell_type": "code",
      "metadata": {
        "id": "U52ufyIniZ0c",
        "colab_type": "code",
        "colab": {}
      },
      "source": [
        "import numpy as np\n",
        "import pandas as pd\n",
        "import math\n",
        "\n",
        "map = pd.read_csv('/content/drive/My Drive/Probs Stats/q5.csv', header = None)"
      ],
      "execution_count": 0,
      "outputs": []
    },
    {
      "cell_type": "code",
      "metadata": {
        "id": "Um5_Q97FjO9a",
        "colab_type": "code",
        "colab": {}
      },
      "source": [
        "def  MAP_descision(w, p):\n",
        "  mu = 0.5\n",
        "  sigma_square = 1\n",
        "  result = []\n",
        "  const = -math.log((1-p)/p) * (sigma_square/(2 * mu))\n",
        "  if np.sum(w) <= const:\n",
        "    return 0\n",
        "  else:\n",
        "    return 1"
      ],
      "execution_count": 0,
      "outputs": []
    },
    {
      "cell_type": "code",
      "metadata": {
        "id": "ovTAUaAYtYZB",
        "colab_type": "code",
        "outputId": "ed8830e9-1ae9-4881-80f2-bc6ba63abdf9",
        "colab": {
          "base_uri": "https://localhost:8080/",
          "height": 84
        }
      },
      "source": [
        "p = [0.1, 0.3, 0.5, 0.8]\n",
        "for i in range(len(p)):\n",
        "  result = []\n",
        "  for j in range(map.shape[1]):\n",
        "    w = map.iloc[:, j]\n",
        "    result.append(str(MAP_descision(w, p[i])))\n",
        "  print('For 𝑃(H0) = ' + str(p[i]) + ', the hypotheses selected are ::', result)"
      ],
      "execution_count": 0,
      "outputs": [
        {
          "output_type": "stream",
          "text": [
            "For 𝑃(H0) = 0.1, the hypotheses selected are :: ['0', '1', '0', '0', '1', '0', '1', '1', '0', '1']\n",
            "For 𝑃(H0) = 0.3, the hypotheses selected are :: ['0', '1', '0', '0', '1', '0', '1', '1', '0', '1']\n",
            "For 𝑃(H0) = 0.5, the hypotheses selected are :: ['0', '1', '0', '0', '1', '0', '1', '1', '0', '1']\n",
            "For 𝑃(H0) = 0.8, the hypotheses selected are :: ['0', '1', '0', '0', '1', '0', '1', '1', '0', '1']\n"
          ],
          "name": "stdout"
        }
      ]
    }
  ]
}
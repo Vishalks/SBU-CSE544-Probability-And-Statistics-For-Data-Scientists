{
 "cells": [
  {
   "cell_type": "code",
   "execution_count": 372,
   "metadata": {
    "colab": {},
    "colab_type": "code",
    "id": "yCDm7NznoNo5"
   },
   "outputs": [],
   "source": [
    "import numpy as np\n",
    "import matplotlib.pyplot as plt\n",
    "import pandas as pd\n",
    "import pylab"
   ]
  },
  {
   "cell_type": "code",
   "execution_count": 159,
   "metadata": {},
   "outputs": [],
   "source": [
    "def get_test_train_split(data, split_ratio=0.9):\n",
    "    train_size = int(split_ratio*len(data))\n",
    "    train = data[:train_size]\n",
    "    test  = data[train_size:]\n",
    "    return train, test"
   ]
  },
  {
   "cell_type": "code",
   "execution_count": 386,
   "metadata": {},
   "outputs": [],
   "source": [
    "class EWMA:\n",
    "    def __init__(self, alpha):\n",
    "        self.alpha = alpha\n",
    "\n",
    "    def fit(self,train):\n",
    "        y_t_hat = data[0]\n",
    "        for t in range(len(train)):\n",
    "            y_t = data[t]\n",
    "            y_t_hat = self.alpha*y_t + (1-self.alpha)*y_t_hat\n",
    "            print(\"Train Prediction: \", y_t_hat, y_t)\n",
    "        self.y_t_hat = y_t_hat\n",
    "\n",
    "    def predict(self,test):\n",
    "        y_t_hat = self.y_t_hat\n",
    "        mse_errors = np.zeros(len(test))\n",
    "        mape_errors = np.zeros(len(test))\n",
    "        for t in range(len(test)):\n",
    "            y_t = test[t]\n",
    "            residual = y_t_hat - y_t\n",
    "            print(\"Test Prediction: \", y_t_hat, y_t)\n",
    "            mape_errors[t] = (abs(residual)/y_t)*100\n",
    "            mse_errors[t] = residual**2\n",
    "            y_t_hat = self.alpha*y_t + (1-self.alpha)* y_t_hat\n",
    "\n",
    "        print(\"MAPE:\" + \"{:5.2f}\".format(np.mean(mape_errors)))\n",
    "        print(\"MSE:\" + \"{:5.2f}\".format(np.mean(mse_errors)))        "
   ]
  },
  {
   "cell_type": "code",
   "execution_count": 387,
   "metadata": {
    "colab": {
     "base_uri": "https://localhost:8080/",
     "height": 170
    },
    "colab_type": "code",
    "executionInfo": {
     "elapsed": 396,
     "status": "ok",
     "timestamp": 1589014251720,
     "user": {
      "displayName": "Gargi Sawhney",
      "photoUrl": "",
      "userId": "14177016306428220038"
     },
     "user_tz": 240
    },
    "id": "3lNLk-s2oR8M",
    "outputId": "ad6ce7cc-5423-495d-e37a-1c8cadb9977f"
   },
   "outputs": [
    {
     "name": "stdout",
     "output_type": "stream",
     "text": [
      "Train Prediction:  25.0 25\n",
      "Train Prediction:  25.3 28\n",
      "Train Prediction:  25.37 26\n",
      "Train Prediction:  25.033 22\n",
      "Test Prediction:  25.033 19\n",
      "Test Prediction:  24.4297 23\n",
      "Test Prediction:  24.286730000000002 27\n",
      "MAPE:16.01\n",
      "MSE:15.27\n"
     ]
    }
   ],
   "source": [
    "# Reference for validation: https://medium.com/@abhinav.mahapatra10/beginners-ml-basics-exponentially-weighted-moving-average-8ce3e75768f6 \n",
    "# EWMA\n",
    "data= np.array([25, 28, 26, 22, 19, 23, 27])\n",
    "train, test = get_test_train_split(data, split_ratio=0.6)\n",
    "ewma = EWMA(0.1)\n",
    "ewma.fit(train)\n",
    "ewma.predict(test)"
   ]
  },
  {
   "cell_type": "code",
   "execution_count": 281,
   "metadata": {},
   "outputs": [
    {
     "data": {
      "text/plain": [
       "-0.8553578095227946"
      ]
     },
     "execution_count": 281,
     "metadata": {},
     "output_type": "execute_result"
    }
   ],
   "source": [
    "# Parameters\n",
    "#  ----------\n",
    "#  x : 1D array\n",
    "#  y : 1D array the same length as x\n",
    "def person_correlation_coefficient(x, y):\n",
    "    covariance_matrix = np.cov(x,y)\n",
    "    return covariance_matrix[0][1]/np.sqrt((covariance_matrix[0][0]*covariance_matrix[1][1]))\n",
    "\n",
    "person_correlation_coefficient(np.array([-2.1, -1,  4.3]), np.array([3,  1.1,  0.12]))"
   ]
  },
  {
   "cell_type": "code",
   "execution_count": 292,
   "metadata": {},
   "outputs": [],
   "source": [
    "class LinearRegression: #OLS\n",
    "    def __init__(self):\n",
    "        self.beta = []\n",
    "    \n",
    "    def fit(self, X, Y):\n",
    "        if (len(X.shape)==1):\n",
    "            X = np.reshape(X, (-1,1))\n",
    "#         print(X)\n",
    "        X = np.concatenate((X,np.ones(shape=X.shape[0]).reshape(-1,1)), 1)\n",
    "        self.beta = np.matmul(np.linalg.inv(np.matmul(X.T, X)), np.matmul(X.T, Y))\n",
    "        print(self.beta)\n",
    "        return self.beta\n",
    "            \n",
    "    def predict(self, data):\n",
    "        prediction = self.beta[0]\n",
    "        beta_values = self.beta[1:]\n",
    "        for i in range(len(data)):\n",
    "            prediction += data[i]*beta_values[i]\n",
    "        return prediction"
   ]
  },
  {
   "cell_type": "code",
   "execution_count": 294,
   "metadata": {},
   "outputs": [
    {
     "name": "stdout",
     "output_type": "stream",
     "text": [
      "[-32.   6.   6.]\n"
     ]
    },
    {
     "data": {
      "text/plain": [
       "-26.0"
      ]
     },
     "execution_count": 294,
     "metadata": {},
     "output_type": "execute_result"
    }
   ],
   "source": [
    "# LINEAR REGRESSION\n",
    "# input train data of the form:\n",
    "# [ [X0_0 X0_1 X0_2], \n",
    "#   [X1_0 X1_1 X1_2], \n",
    "#   [X2_0 X2_1 X2_2]]\n",
    "# test: [Y0, Y1, Y2] \n",
    "# all numpy arrays\n",
    "LR = LinearRegression()\n",
    "LR.fit(np.array([[0,1,2,3,4,5,6,7,8,9], [1,2,3,4,5,6,7,8,9,10]]).T, np.array([5,6,7,8,9,10,11,12,13,14]))\n",
    "LR.predict(np.array([0,1]))"
   ]
  },
  {
   "cell_type": "code",
   "execution_count": 389,
   "metadata": {},
   "outputs": [
    {
     "name": "stdout",
     "output_type": "stream",
     "text": [
      "Test prediction: 27.72 Actual: 25 Error: 10.90\n",
      "Test prediction: 20.13 Actual: 50 Error: 59.73\n",
      "Test prediction: 28.65 Actual: 56 Error: 48.84\n",
      "Test prediction: 44.58 Actual: 45 Error:  0.93\n"
     ]
    },
    {
     "data": {
      "image/png": "[encoded data removed]",
      "text/plain": [
       "<Figure size 432x288 with 1 Axes>"
      ]
     },
     "metadata": {
      "needs_background": "light"
     },
     "output_type": "display_data"
    }
   ],
   "source": [
    "def plot(plot_x, test, predictions):\n",
    "    plt.plot(plot_x,test,label=\"original\")\n",
    "    plt.plot(plot_x,predictions,label=\"Predictions\")\n",
    "    plt.xlabel('X')\n",
    "    plt.ylabel('Y')\n",
    "    plt.legend(loc='upper left')   \n",
    "    plt.show()\n",
    "    \n",
    "class AutoRegression:\n",
    "    def __init__(self, p):\n",
    "        self.p = p\n",
    "        self.LR = LinearRegression()\n",
    "    \n",
    "    def fit(self, train):\n",
    "        self.data = train\n",
    "        return\n",
    "    \n",
    "    def train_lr(self,p,curr_len):\n",
    "        X = []\n",
    "        Y = []\n",
    "        for i in range(curr_len):\n",
    "            if(i+p < curr_len):\n",
    "                X.append([1])\n",
    "                X[i] = X[i]+list(self.data[i:i+p])\n",
    "                Y.append(self.data[i+p])\n",
    "            else:\n",
    "                break\n",
    "        beta=np.matmul(np.linalg.inv(np.matmul(np.transpose(X),X)),np.matmul(np.transpose(X),Y))\n",
    "        return beta\n",
    "        \n",
    "    def predict(self, test):\n",
    "        self.data = np.hstack([self.data, test])\n",
    "        p = self.p\n",
    "        t = self.data.shape[0] - test.shape[0] #test data length\n",
    "        error = np.zeros(test.shape[0])\n",
    "        predictions = np.zeros(test.shape[0])\n",
    "        for i in range(t,t+test.shape[0]):\n",
    "            testx = [1]\n",
    "            testx = np.hstack([[1], self.data[i-p:i]])\n",
    "            beta = self.train_lr(p,i)\n",
    "            predictions[i-t] = np.matmul(testx,beta)\n",
    "            error[i-t] = (abs(predictions[i-t]-self.data[i])/self.data[i])*100\n",
    "            print(\"Test prediction: \" + \"{:5.2f}\".format(predictions[i-t]) + \" Actual: \" + str(test[i-t]) + \" Error: \" + \"{:5.2f}\".format(error[i-t]))\n",
    "\n",
    "#         plot_data(r,s,y,test,\"AR(\"+str(p)+\")\")\n",
    "        self.predictions = predictions\n",
    "        return predictions, np.mean(error)\n",
    "    \n",
    "\n",
    "data= np.array([25, 28, 26, 22, 19, 23, 27, 34, 25, 32,23, 25,50,56,45])\n",
    "train, test = get_test_train_split(data, split_ratio=0.75)\n",
    "ar = AutoRegression(3)\n",
    "ar.fit(train)\n",
    "predictions, error = ar.predict(test)\n",
    "plot(np.arange(len(train), len(data)), test, predictions)"
   ]
  },
  {
   "cell_type": "code",
   "execution_count": null,
   "metadata": {},
   "outputs": [],
   "source": []
  }
 ],
 "metadata": {
  "colab": {
   "authorship_tag": "ABX9TyPasQQ6ywcR7Yep+YQojyuJ",
   "collapsed_sections": [],
   "name": "ewma_dummy.ipynb",
   "provenance": []
  },
  "kernelspec": {
   "display_name": "Python 3",
   "language": "python",
   "name": "python3"
  },
  "language_info": {
   "codemirror_mode": {
    "name": "ipython",
    "version": 3
   },
   "file_extension": ".py",
   "mimetype": "text/x-python",
   "name": "python",
   "nbconvert_exporter": "python",
   "pygments_lexer": "ipython3",
   "version": "3.7.6"
  }
 },
 "nbformat": 4,
 "nbformat_minor": 1
}
